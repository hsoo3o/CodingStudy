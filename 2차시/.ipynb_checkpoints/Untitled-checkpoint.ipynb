{
 "cells": [
  {
   "cell_type": "markdown",
   "metadata": {},
   "source": [
    "### 회문 문자열"
   ]
  },
  {
   "cell_type": "code",
   "execution_count": 10,
   "metadata": {
    "scrolled": true
   },
   "outputs": [
    {
     "name": "stdout",
     "output_type": "stream",
     "text": [
      "1\n",
      "gooG\n",
      "YES\n"
     ]
    }
   ],
   "source": [
    "# sol 1\n",
    "N = int(input())\n",
    "\n",
    "for i in range(N):\n",
    "    word = list(str(input().upper()))\n",
    "    # 대문자 변환 방법 : upper()\n",
    "    check = 'YES'\n",
    "    for i in range(len(word)//2):\n",
    "        if word[i] != word[-i-1]:\n",
    "            check = 'NO'\n",
    "    print(check)\n",
    "\n"
   ]
  },
  {
   "cell_type": "code",
   "execution_count": 12,
   "metadata": {
    "scrolled": true
   },
   "outputs": [
    {
     "name": "stdout",
     "output_type": "stream",
     "text": [
      "1\n",
      "aba\n",
      "YES\n"
     ]
    }
   ],
   "source": [
    "# sol 2\n",
    "N = int(input())\n",
    "\n",
    "for i in range(N):\n",
    "    word = list(str(input().upper()))\n",
    "    # 대문자 변환 방법 : upper()\n",
    "    check = 'YES'\n",
    "    for i in range(len(word)//2):\n",
    "        if word != word[::-1]:\n",
    "            check = 'NO'\n",
    "    print(check)"
   ]
  },
  {
   "cell_type": "markdown",
   "metadata": {},
   "source": [
    "### 숫자만 추출"
   ]
  },
  {
   "cell_type": "code",
   "execution_count": 32,
   "metadata": {
    "scrolled": true
   },
   "outputs": [
    {
     "name": "stdout",
     "output_type": "stream",
     "text": [
      "g0en2Ts8eSoft\n",
      "28\n",
      "6\n"
     ]
    }
   ],
   "source": [
    "# sol 1, .isnumeric() 함수 알아가기\n",
    "word = list(str(input()))\n",
    "number = []\n",
    "\n",
    "def cnt(n):\n",
    "    nn = 0\n",
    "    for i in range(1,n+1):\n",
    "        if (n % i) == 0:\n",
    "            nn += 1\n",
    "    return nn\n",
    "        \n",
    "for _ in word:\n",
    "    if _.isnumeric():\n",
    "        number.append(_)\n",
    "        \n",
    "number = int(\"\".join(number))\n",
    "\n",
    "print(number)\n",
    "print(cnt(number))"
   ]
  },
  {
   "cell_type": "markdown",
   "metadata": {},
   "source": [
    "### 카드 역배치"
   ]
  },
  {
   "cell_type": "code",
   "execution_count": 56,
   "metadata": {
    "scrolled": false
   },
   "outputs": [
    {
     "name": "stdout",
     "output_type": "stream",
     "text": [
      "5 10\n",
      "9 13\n",
      "1 2\n",
      "3 4\n",
      "5 6\n",
      "1 2\n",
      "3 4\n",
      "5 6\n",
      "1 20\n",
      "1 20\n",
      "1 2 3 4 10 9 8 7 13 12 11 5 6 14 15 16 17 18 19 20 "
     ]
    }
   ],
   "source": [
    "card = [i for i in range(21)]\n",
    "\n",
    "for _ in range(10): # _ 넣으면 변수에 숫자 대입하지 않고 for문 돌리기 때문에 시간 효율 이득\n",
    "    start,end = map(int, input().split())\n",
    "    card[start:end+1] = card[start:end+1][::-1]\n",
    "\n",
    "card.pop(0)\n",
    "\n",
    "for i in card:\n",
    "    print(i, end = ' ')"
   ]
  },
  {
   "cell_type": "markdown",
   "metadata": {},
   "source": [
    "### 두 리스트 합치기"
   ]
  },
  {
   "cell_type": "code",
   "execution_count": 60,
   "metadata": {
    "scrolled": false
   },
   "outputs": [
    {
     "name": "stdout",
     "output_type": "stream",
     "text": [
      "3\n",
      "1 3 5\n",
      "5\n",
      "2 3 6 7 9\n",
      "1 2 3 3 5 6 7 9 "
     ]
    }
   ],
   "source": [
    "input()\n",
    "N_list = list(map(int, input().split()))\n",
    "input()\n",
    "M_list = list(map(int, input().split()))\n",
    "\n",
    "for _ in sorted(N_list + M_list):\n",
    "    print(_, end = \" \")"
   ]
  },
  {
   "cell_type": "markdown",
   "metadata": {},
   "source": [
    "### 수들의 합"
   ]
  },
  {
   "cell_type": "code",
   "execution_count": 73,
   "metadata": {
    "scrolled": false
   },
   "outputs": [
    {
     "name": "stdout",
     "output_type": "stream",
     "text": [
      "8 3\n",
      "1 2 1 3 1 1 1 2\n",
      "5\n"
     ]
    }
   ],
   "source": [
    "# sol 1\n",
    "N,M = map(int, input().split())\n",
    "A = list(map(int, input().split()))\n",
    "\n",
    "cnt = 0\n",
    "for i in range(1,len(A)):\n",
    "    for idx,j in enumerate(A):\n",
    "        if idx + i > len(A):\n",
    "            pass\n",
    "        else:\n",
    "            if M == sum(A[idx:idx+i+1]):\n",
    "                cnt += 1\n",
    "print(cnt)"
   ]
  },
  {
   "cell_type": "markdown",
   "metadata": {},
   "source": [
    "### 격자판 최대합\n",
    "\n",
    "\n"
   ]
  },
  {
   "cell_type": "code",
   "execution_count": 85,
   "metadata": {},
   "outputs": [
    {
     "name": "stdout",
     "output_type": "stream",
     "text": [
      "149 154 155\n",
      "155\n"
     ]
    }
   ],
   "source": [
    "# sol 1\n",
    "N = 5\n",
    "table = [0 for _ in range(N)]\n",
    "\n",
    "for i in range(N):\n",
    "    table[i] = list(map(int, input().split()))\n",
    "    \n",
    "# table = [list(map(int,input().split())) for _ in range(n)] 이렇게 할 수도 있음 !\n",
    "    \n",
    "col = [[] for _ in range(N)]\n",
    "low = [[] for _ in range(N)]\n",
    "\n",
    "# col, low\n",
    "\n",
    "for i in range(N):\n",
    "    for j in range(N):\n",
    "        col[i].append(table[j][i])\n",
    "        low[i].append(table[i][j])\n",
    "    col[i] = sum(col[i])\n",
    "    low[i] = sum(low[i])\n",
    "    \n",
    "# 대각선\n",
    "diag_l = [[] for _ in range(N)]\n",
    "diag_r = [[] for _ in range(N)]\n",
    "\n",
    "for k in range(N):\n",
    "    for i in range(N):\n",
    "        diag_l[k].append(table[i][i])\n",
    "        diag_r[k].append(table[-i-1][-i-1])\n",
    "    diag_l[k] = sum(diag_l[k])\n",
    "    diag_r[k] = sum(diag_r[k])\n",
    "    \n",
    "max_col = max(col)\n",
    "max_low = max(low)\n",
    "max_diag = max(max(diag_l), max(diag_r))\n",
    "\n",
    "print(max(max_col, max_low, max_diag))"
   ]
  },
  {
   "cell_type": "code",
   "execution_count": 88,
   "metadata": {},
   "outputs": [
    {
     "name": "stdout",
     "output_type": "stream",
     "text": [
      "155\n"
     ]
    }
   ],
   "source": [
    "# sol 2\n",
    "largest = -2147000000\n",
    "a = table.copy()\n",
    "for i in range(n):\n",
    "    sum1=sum2=0\n",
    "    for j in range(n):\n",
    "        sum1+=a[i][j]\n",
    "        sum2+=a[j][i]\n",
    "    if sum1 > largest:\n",
    "        largest = sum1\n",
    "    if sum2 > largest:\n",
    "        largest = sum2\n",
    "sum1 = sum2 = 0\n",
    "\n",
    "for i in range(n):\n",
    "    sum1+= a[i][i]\n",
    "    sum2+= a[i][n-i-1]\n",
    "    if sum1 > largest:\n",
    "        largest = sum1\n",
    "    if sum2 > largest:\n",
    "        largest = sum2\n",
    "print(largest)"
   ]
  },
  {
   "cell_type": "markdown",
   "metadata": {},
   "source": [
    "### 사과나무(다이아몬드)\n"
   ]
  },
  {
   "cell_type": "code",
   "execution_count": 89,
   "metadata": {
    "scrolled": true
   },
   "outputs": [
    {
     "name": "stdout",
     "output_type": "stream",
     "text": [
      "5\n",
      "10 13 10 12 15\n",
      "12 39 30 23 11\n",
      "11 25 50 53 15\n",
      "19 27 29 37 27\n",
      "19 13 30 13 19\n"
     ]
    }
   ],
   "source": [
    "# sol 1\n",
    "N = int(input())\n",
    "tree = [list(map(int, input().split())) for _ in range(N)]\n",
    "apple = 0\n",
    "mid = len(tree) // 2\n",
    "\n",
    "# for i in range(N):\n",
    "#     apple += tree[i][2]\n",
    "    \n",
    "for i in range(mid + 1):\n",
    "    if i == 0:\n",
    "        apple += sum(tree[mid][i:N-i])\n",
    "        print(tree[mid][i:N-i])\n",
    "    else:\n",
    "        apple += sum(tree[mid+i][i:N-i])\n",
    "        apple += sum(tree[mid-i][i:N-i])\n",
    "#         print(tree[mid+i][i:N-i])\n",
    "#         print(tree[mid-i][i:N-i])\n",
    "\n",
    "print(apple)"
   ]
  },
  {
   "cell_type": "code",
   "execution_count": 103,
   "metadata": {},
   "outputs": [
    {
     "name": "stdout",
     "output_type": "stream",
     "text": [
      "379\n"
     ]
    }
   ],
   "source": [
    "# sol 2\n",
    "\n",
    "res = 0\n",
    "s=e=n//2\n",
    "\n",
    "for i in range(n):\n",
    "    for j in range(s,e+1):\n",
    "        res+=table[i][j]\n",
    "    if i < n//2:\n",
    "        s -= 1\n",
    "        e += 1\n",
    "    else:\n",
    "        s += 1\n",
    "        e -= 1\n",
    "print(res)"
   ]
  },
  {
   "cell_type": "markdown",
   "metadata": {},
   "source": [
    "### 곳감(모래시계)"
   ]
  },
  {
   "cell_type": "code",
   "execution_count": 104,
   "metadata": {},
   "outputs": [
    {
     "name": "stdout",
     "output_type": "stream",
     "text": [
      "[[10, 13, 10, 12, 15], [12, 39, 30, 23, 11], [11, 25, 50, 53, 15], [19, 27, 29, 37, 27], [19, 13, 30, 13, 19]]\n"
     ]
    }
   ],
   "source": [
    "N = int(input())\n",
    "M = int(input())\n",
    "for i in range(M):\n",
    "    order = list(map(int, input().split()))\n",
    "    order[0] -= 1\n",
    "    row = order[0]\n",
    "    new_row = []\n",
    "    if order[1] == 0:\n",
    "        for j in range(N):\n",
    "            tmp = table[row][j]\n",
    "            \n",
    "    if order[1] == 1:"
   ]
  }
 ],
 "metadata": {
  "kernelspec": {
   "display_name": "Python 3",
   "language": "python",
   "name": "python3"
  },
  "language_info": {
   "codemirror_mode": {
    "name": "ipython",
    "version": 3
   },
   "file_extension": ".py",
   "mimetype": "text/x-python",
   "name": "python",
   "nbconvert_exporter": "python",
   "pygments_lexer": "ipython3",
   "version": "3.8.5"
  }
 },
 "nbformat": 4,
 "nbformat_minor": 4
}
