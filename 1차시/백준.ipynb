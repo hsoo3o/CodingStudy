{
 "cells": [
  {
   "cell_type": "markdown",
   "metadata": {},
   "source": [
    "### 1003 : 피보나치 함수, 2022-04-04"
   ]
  },
  {
   "cell_type": "code",
   "execution_count": null,
   "metadata": {
    "scrolled": true
   },
   "outputs": [],
   "source": [
    "\n",
    "zero = [1,0,1]\n",
    "one = [0,1,1]\n",
    "\n",
    "def fibonacci(N):\n",
    "    length = len(zero)\n",
    "    if length <= N:\n",
    "        for i in range(length, N+1):\n",
    "            zero.append(zero[i-1] + zero[i-2])\n",
    "            one.append(one[i-1] + one[i-2])\n",
    "    print(\"{} {}\".format(zero[N], one[N]))\n",
    "T = int(input())\n",
    "for i in range(T):\n",
    "      fibonacci(int(input()))"
   ]
  },
  {
   "cell_type": "markdown",
   "metadata": {},
   "source": [
    "### 9184 : 신나는 함수 실행"
   ]
  },
  {
   "cell_type": "code",
   "execution_count": null,
   "metadata": {},
   "outputs": [],
   "source": [
    "import sys\n",
    "read = sys.stdin.readline\n",
    "memo = {}\n",
    "\n",
    "def w(a,b,c):\n",
    "    if (a,b,c) in memo:\n",
    "        return memo[(a,b,c)]\n",
    "    elif a<= 0 or b <= 0 or c<= 0:\n",
    "        return 1\n",
    "    elif a > 20 or b > 20 or c > 20:\n",
    "        return w(20,20,20)\n",
    "    \n",
    "    elif a < b and b < c:\n",
    "        ww = w(a,b,c-1) + w(a,b-1,c-1) - w(a,b-1,c)\n",
    "        memo[(a,b,c)] = ww\n",
    "        return ww\n",
    "    else:\n",
    "        ww = w(a-1,b,c) + w(a-1,b-1,c) + w(a-1,b,c-1) - w(a-1,b-1,c-1)\n",
    "        memo[(a,b,c)] = ww\n",
    "        return ww\n",
    "\n",
    "\n",
    "# while True:\n",
    "#     a,b,c = map(int, read().split())\n",
    "#     if a == -1 and b == -1 and c == -1:\n",
    "#         break\n",
    "#     #print(\"w(%d, %d, %d) = %d\" %(a,b,c, w(a,b,c)))\n",
    "#     print('w({}, {}, {}) = {}'.format(a, b, c, w(a, b, c)))\n",
    "\n",
    "while True:\n",
    "    a,b,c = map(int, read().split())\n",
    "    if a == -1 and b == -1 and c == -1:\n",
    "        break\n",
    "    print('w({}, {}, {}) = {}'.format(a, b, c, w(a, b, c)))"
   ]
  },
  {
   "cell_type": "code",
   "execution_count": null,
   "metadata": {},
   "outputs": [],
   "source": [
    "import sys\n",
    "read = sys.stdin.readline\n",
    "\n",
    "cache = {}\n",
    "\n",
    "def w(a, b, c):\n",
    "    if a <= 0 or b <= 0 or c <= 0:\n",
    "        return 1\n",
    "    if a > 20 or b > 20 or c > 20:\n",
    "        return w(20, 20, 20)\n",
    "        \n",
    "    key = '{} {} {}'.format(a, b, c)\n",
    "    \n",
    "    ### 핵심코드 ###\n",
    "    if key in cache:\n",
    "        return cache[key]\n",
    "    res = w(a-1, b, c) + w(a-1, b-1, c) + w(a-1, b, c-1) - w(a-1, b-1, c-1)\n",
    "    cache[key] = res\n",
    "    ################\n",
    "    \n",
    "    return res\n",
    "\n",
    "while True:\n",
    "    a,b,c = map(int, read().split())\n",
    "    if a == -1 and b == -1 and c == -1:\n",
    "        break\n",
    "    print('w({}, {}, {}) = {}'.format(a, b, c, w(a, b, c)))"
   ]
  },
  {
   "cell_type": "markdown",
   "metadata": {},
   "source": [
    "### 셀프 넘버 4673"
   ]
  },
  {
   "cell_type": "code",
   "execution_count": null,
   "metadata": {},
   "outputs": [],
   "source": [
    "def d(n):\n",
    "    n = str(n)\n",
    "    ns = list(n)\n",
    "    ns.append(n)\n",
    "    return sum(map(int,ns))\n",
    "total = 10000\n",
    "nlist = []\n",
    "\n",
    "for i in range(total):\n",
    "    nlist.append(d(i))\n",
    "\n",
    "for i in range(total):\n",
    "    if i not in nlist:\n",
    "        print(i)"
   ]
  },
  {
   "cell_type": "markdown",
   "metadata": {},
   "source": [
    "### 한수 1065"
   ]
  },
  {
   "cell_type": "code",
   "execution_count": null,
   "metadata": {},
   "outputs": [],
   "source": [
    "def h(n):\n",
    "    n = list(str(n))\n",
    "    n = list(map(int,n))\n",
    "    l = len(n)\n",
    "    if l == 1 or l == 2:\n",
    "        return True\n",
    "    else:\n",
    "        m = []\n",
    "        for i in range(l-2):\n",
    "            if (n[i] - n[i+1]) != (n[i+1] - n[i+2]):\n",
    "                return False\n",
    "        return True\n",
    "    \n",
    "N = int(input())\n",
    "cnt = 0\n",
    "for i in range(1,N+1):\n",
    "    if h(i):\n",
    "        cnt += 1\n",
    "print(cnt)"
   ]
  },
  {
   "cell_type": "markdown",
   "metadata": {},
   "source": [
    "### 그룹 단어 체커 1316"
   ]
  },
  {
   "cell_type": "code",
   "execution_count": null,
   "metadata": {},
   "outputs": [],
   "source": [
    "def check(word):\n",
    "    word = list(str(word))\n",
    "    shown = []\n",
    "    for idx,a in enumerate(word):\n",
    "        if idx == 0:\n",
    "            shown.append(a)\n",
    "        elif a not in shown:\n",
    "            shown.append(a)\n",
    "        elif a in shown and word[idx-1] != a:\n",
    "            return False\n",
    "    return True\n",
    "            \n",
    "N = int(input())\n",
    "cnt = 0\n",
    "for i in range(N):\n",
    "    word = input()\n",
    "    if check(word):\n",
    "        cnt += 1\n",
    "print(cnt)"
   ]
  },
  {
   "cell_type": "markdown",
   "metadata": {},
   "source": [
    "### 숫자 카드 10815"
   ]
  },
  {
   "cell_type": "code",
   "execution_count": null,
   "metadata": {},
   "outputs": [],
   "source": [
    "import sys\n",
    "\n",
    "n = int(input())\n",
    "card = list(map(int, sys.stdin.readline().split()))\n",
    "m = int(input())\n",
    "check = list(map(int, sys.stdin.readline().split()))\n",
    "\n",
    "card.sort()\n",
    "\n",
    "def binary_search(array, target, start, end):\n",
    "    while start <= end:\n",
    "        mid = (start + end) // 2\n",
    "\n",
    "        if array[mid] == target:\n",
    "            return mid\n",
    "        elif array[mid] > target:\n",
    "            end = mid - 1\n",
    "        else:\n",
    "            start = mid + 1\n",
    "    return None\n",
    "\n",
    "\n",
    "for i in range(m):\n",
    "    if binary_search(card, check[i], 0, n - 1) is not None:\n",
    "        print(1, end=' ')\n",
    "    else:\n",
    "        print(0, end=' ')"
   ]
  },
  {
   "cell_type": "markdown",
   "metadata": {},
   "source": [
    "### 다이얼 5622"
   ]
  },
  {
   "cell_type": "code",
   "execution_count": 2,
   "metadata": {},
   "outputs": [
    {
     "name": "stdout",
     "output_type": "stream",
     "text": [
      "UNUCIC\n",
      "36\n"
     ]
    }
   ],
   "source": [
    "word = list(str(input()))\n",
    "cnt = 0\n",
    "for a in word:\n",
    "    if a == 'A' or a == 'B' or a == \"C\":\n",
    "        cnt += 3\n",
    "    elif a == 'D' or a == 'E' or a == \"F\":\n",
    "        cnt += 4\n",
    "    elif a == 'G' or a == 'H' or a == \"I\":\n",
    "        cnt += 5\n",
    "    elif a == 'J' or a == 'K' or a == \"L\":\n",
    "        cnt += 6\n",
    "    elif a == 'M' or a == 'N' or a == \"O\":\n",
    "        cnt += 7\n",
    "    elif a == 'P' or a == 'Q' or a == \"R\" or a == 'S':\n",
    "        cnt += 8\n",
    "    elif a == 'T' or a == 'U' or a == \"V\" :\n",
    "        cnt += 9\n",
    "    elif a == 'W' or a == 'X' or a == \"Y\" or A == 'Z':\n",
    "        cnt += 10\n",
    "    else:\n",
    "        cnt += 2\n",
    "print(cnt)\n",
    "        "
   ]
  },
  {
   "cell_type": "code",
   "execution_count": null,
   "metadata": {},
   "outputs": [],
   "source": [
    "# 5622\n",
    "S = list(str(input()))\n",
    "N = []\n",
    "for i in S:\n",
    "    if i in ['A','B','C']:\n",
    "        N.append(3)\n",
    "    elif i in ['D','E','F']:\n",
    "        N.append(4)\n",
    "    elif i in ['G','H','I']:\n",
    "        N.append(5)\n",
    "    elif i in ['J','K','L']:\n",
    "        N.append(6)\n",
    "    elif i in ['M','N','O']:\n",
    "        N.append(7)\n",
    "    elif i in ['P','Q','R','S']:\n",
    "        N.append(8)\n",
    "    elif i in ['T','U','V']:\n",
    "        N.append(9)\n",
    "    elif i in ['W','X','Y','Z']:\n",
    "        N.append(10)\n",
    "    else:\n",
    "        N.append(2)\n",
    "print(sum(N))"
   ]
  }
 ],
 "metadata": {
  "kernelspec": {
   "display_name": "Python 3",
   "language": "python",
   "name": "python3"
  },
  "language_info": {
   "codemirror_mode": {
    "name": "ipython",
    "version": 3
   },
   "file_extension": ".py",
   "mimetype": "text/x-python",
   "name": "python",
   "nbconvert_exporter": "python",
   "pygments_lexer": "ipython3",
   "version": "3.6.9"
  }
 },
 "nbformat": 4,
 "nbformat_minor": 4
}
